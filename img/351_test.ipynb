{
 "cells": [
  {
   "cell_type": "code",
   "execution_count": 3,
   "id": "fdf26c3e-2d40-4786-824d-9db42108e850",
   "metadata": {},
   "outputs": [
    {
     "name": "stdout",
     "output_type": "stream",
     "text": [
      "[10, 20, 30, 40, 50, 20, 40, 60, 80, 100, 30, 60, 90, 120, 150, 40, 80, 120, 160, 200, 50, 100, 150, 200, 250]\n"
     ]
    }
   ],
   "source": [
    "x = [10, 20, 30, 40, 50]\n",
    "y = [1, 2, 3, 4, 5]\n",
    "\n",
    "result = []\n",
    "for i in x:\n",
    "  for j in y:\n",
    "    result.append(i * j)\n",
    "\n",
    "print(result)\n",
    "\n",
    "# 1. The code above creates two lists (x and y)\n",
    "# 2. A result list is then declared\n",
    "# 3. A for loop is used to iterate through array x (i is used to keep track of the index)\n",
    "# 4. A nested loop is used to iterate through array y (j is used to keep track of the index)\n",
    "# 5. i * j is appended to the result array\n",
    "# 6. The result array is printed after all loops finish"
   ]
  },
  {
   "cell_type": "code",
   "execution_count": null,
   "id": "59cb3c08-8f41-4eb1-8531-ab43ff91d8fc",
   "metadata": {},
   "outputs": [],
   "source": []
  }
 ],
 "metadata": {
  "kernelspec": {
   "display_name": "Python 3 (ipykernel)",
   "language": "python",
   "name": "python3"
  },
  "language_info": {
   "codemirror_mode": {
    "name": "ipython",
    "version": 3
   },
   "file_extension": ".py",
   "mimetype": "text/x-python",
   "name": "python",
   "nbconvert_exporter": "python",
   "pygments_lexer": "ipython3",
   "version": "3.9.6"
  }
 },
 "nbformat": 4,
 "nbformat_minor": 5
}
